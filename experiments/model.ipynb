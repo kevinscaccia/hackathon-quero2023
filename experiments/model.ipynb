{
 "cells": [
  {
   "cell_type": "code",
   "execution_count": 11,
   "metadata": {},
   "outputs": [],
   "source": [
    "import openai\n",
    "import pandas as pd\n"
   ]
  },
  {
   "cell_type": "markdown",
   "metadata": {},
   "source": [
    "## Carrega Dados"
   ]
  },
  {
   "cell_type": "code",
   "execution_count": 102,
   "metadata": {},
   "outputs": [],
   "source": [
    "dataframe = pd.read_csv('../scrapping/base_redacoes_final.csv')\n",
    "\n",
    "redacao = dataframe.iloc[0].texto_original\n",
    "tema = dataframe.iloc[0].tema\n",
    "titulo = dataframe.iloc[0].titulo\n",
    "\n",
    "nota_criterio_1 = dataframe.iloc[0].comp_lingua_culta\n",
    "nota_criterio_2 = dataframe.iloc[0].comp_proposta\n",
    "nota_criterio_3 = dataframe.iloc[0].comp_argumentacao\n",
    "nota_criterio_4 = dataframe.iloc[0].comp_conhecimentos\n",
    "nota_criterio_4 = dataframe.iloc[0].comp_proposta_solucao"
   ]
  },
  {
   "cell_type": "markdown",
   "metadata": {},
   "source": [
    "### Prompt"
   ]
  },
  {
   "cell_type": "code",
   "execution_count": 79,
   "metadata": {},
   "outputs": [
    {
     "name": "stdout",
     "output_type": "stream",
     "text": [
      "Texto corrigido: Anos após anos, uma vaga de emprego demanda cada vez mais qualificações do empregado, que, na maioria das vezes, concluíram o curso superior e são incapazes de trabalhar nesse ramo e optam por um emprego informal. Esse fenômeno ocorre porque o mercado de trabalho se modifica constantemente, de maneira que algumas profissões são extintas, pois são ocupadas por máquinas.\n",
      "No filme \"Estrelas Além do Tempo\" (de 2016), conta-se a história de três calculadoras humanas, que eram muito requisitadas por centros de pesquisa antes do surgimento das modernas calculadoras eletrônicas e dos computadores. No longa-metragem, vemos a personagem Dorothy Vaughan, que, ao saber que a NASA tinha comprado um novo computador que fazia 24 mil cálculos por segundo, o que colocava seu emprego em risco, resolveu aprender a programar esse mesmo computador e ensinar suas companheiras.\n",
      "No mercado de trabalho, é necessário estar sempre se adaptando, pois ele é instável, fazendo com que algumas profissões sumam enquanto novas aparecem, como gestores de mídias sociais.\n",
      "\n",
      "criterio[1]: 200\n",
      "criterio[2]: 200\n",
      "criterio[3]: 200\n",
      "criterio[4]: 200\n",
      "criterio[5]: 200\n"
     ]
    }
   ],
   "source": [
    "def gera_prompt(texto):\n",
    "    prompt = f'''Corrija o seguinte texto de acordo com os critérios a seguir:\n",
    "        1. Ortografia e gramática\n",
    "        2. Coerência e fluidez\n",
    "        3. Uso adequado de pontuação\n",
    "        4. Clareza e concisão\n",
    "        5. Uso de vocabulário variado\n",
    "\n",
    "        A correção deve ser um novo texto, com base no atual, melhorando e seugindo os critérios.\n",
    "        Dê uma nota para cada critério (de 0 a 200)\n",
    "        A cada modificação do texto, coloque por favor entre () o que mudou do texto original e a sua sugestão.\n",
    "            \n",
    "        Formato desejado de output:\n",
    "        texto_corrigido: <texto_corrigido>\n",
    "        criterio[1]: <nota>\n",
    "        criterio[2]: <nota>\n",
    "        criterio[3]: <nota>\n",
    "        criterio[4]: <nota>\n",
    "        criterio[5]: <nota>\n",
    "        \n",
    "        Texto: \"\"\"{texto}\"\"\"\n",
    "        '''\n",
    "    return prompt\n",
    "\n",
    "prompt = gera_prompt(redacao)\n",
    "\n",
    "response = openai.Completion.create(\n",
    "    engine='text-davinci-003',  # A engine que você quer usar (pode variar, como \"davinci\" ou \"curie\")\n",
    "    prompt=prompt,\n",
    "    max_tokens=1000,  # Número máximo de tokens na resposta gerada\n",
    "    temperature=0.2,  # Controla a criatividade da geração de texto (0.2 é mais determinístico, 1.0 é mais criativo)\n",
    "    frequency_penalty=0.0,  # Controla a repetição de tokens (valores mais altos reduzem a repetição)\n",
    "    presence_penalty=0.0  # Controla a inclusão de tokens pouco frequentes\n",
    ")\n",
    "resp = response.choices[0].text.strip()\n",
    "print(resp)"
   ]
  },
  {
   "cell_type": "markdown",
   "metadata": {},
   "source": [
    "## ---"
   ]
  },
  {
   "cell_type": "code",
   "execution_count": 93,
   "metadata": {},
   "outputs": [],
   "source": [
    "criterio_1 = \"Demonstrar domínio da norma culta da língua escrita.\"\n",
    "criterio_2 = \"Compreender a proposta da redação e aplicar conceito das várias áreas de conhecimento para desenvolver o tema, dentro dos limites estruturais do texto dissertativo-argumentativo.\"\n",
    "criterio_3 = \"Selecionar, relacionar, organizar e interpretar informações, fatos, opiniões e argumentos em defesa de um ponto de vista.\"\n",
    "criterio_4 = \"Demonstrar conhecimento dos mecanismos linguísticos necessários para a construção da argumentação.\"\n",
    "criterio_5 = \"Elaborar a proposta de solução para o problema abordado, mostrando respeito aos valores humanos e considerando a diversidade sociocultura\"\n",
    "def gera_prompt(texto):\n",
    "    prompt = f'''\n",
    "        1. {criterio_1}\n",
    "        3. {criterio_3} \n",
    "        4. {criterio_4}\n",
    "        5. {criterio_5} \n",
    "\n",
    "        A correção deve ser um novo texto, com base no atual, melhorando e seugindo os critérios.\n",
    "        Dê uma nota para cada critério (de 0 a 200)\n",
    "        A cada modificação do texto, coloque por favor entre () o que mudou do texto original e a sua sugestão.\n",
    "            \n",
    "        Formato desejado de output:\n",
    "        texto_corrigido: <texto_corrigido>\n",
    "        criterio[1]: <nota para o criterio 1> <motivo da nota>\n",
    "        criterio[2]: <nota para o criterio 2> <motivo da nota>\n",
    "        criterio[3]: <nota para o criterio 3> <motivo da nota>\n",
    "        criterio[4]: <nota para o criterio 4> <motivo da nota>\n",
    "        criterio[5]: <nota para o criterio 5> <motivo da nota>\n",
    "        \n",
    "        Texto: \"\"\"{texto}\"\"\"\n",
    "        '''\n",
    "    return prompt\n",
    "\n",
    "prompt = gera_prompt(redacao)\n",
    "\n",
    "response = openai.Completion.create(\n",
    "    engine='text-davinci-003',  # A engine que você quer usar (pode variar, como \"davinci\" ou \"curie\")\n",
    "    prompt=prompt,\n",
    "    max_tokens=1000,  # Número máximo de tokens na resposta gerada\n",
    "    temperature=0.2,  # Controla a criatividade da geração de texto (0.2 é mais determinístico, 1.0 é mais criativo)\n",
    "    frequency_penalty=0.0,  # Controla a repetição de tokens (valores mais altos reduzem a repetição)\n",
    "    presence_penalty=0.0  # Controla a inclusão de tokens pouco frequentes\n",
    ")\n",
    "resp = response.choices[0].text.strip()\n",
    "print(resp)"
   ]
  },
  {
   "cell_type": "code",
   "execution_count": 83,
   "metadata": {},
   "outputs": [
    {
     "name": "stdout",
     "output_type": "stream",
     "text": [
      "Texto corrigido: Anos após anos, uma vaga de emprego demanda cada vez mais qualificações do empregado, que, na maioria das vezes, concluíram o curso superior e são incapazes de trabalhar nesse ramo e optam por um emprego informal. Esse fenômeno ocorre porque o mercado de trabalho se modifica constantemente, de maneira que algumas profissões são extintas, pois são ocupadas por máquinas.\n",
      "No filme \"Estrelas além do Tempo\", de 2016, conta-se a história de três calculadoras humanas, que eram muito requisitadas por centros de pesquisa antes do surgimento das modernas calculadoras eletrônicas e dos computadores. No longa-metragem, vemos a personagem Dorothy Vougham, que, ao saber que a NASA tinha comprado um novo computador que fazia 24 mil cálculos por segundo, o que colocava seu emprego em risco, resolveu aprender a programar esse mesmo computador e ensinar suas companheiras.\n",
      "No mercado de trabalho, é necessário estar sempre se adaptando, pois ele é instável, fazendo com que algumas profissões sumam enquanto novas aparecem, como gestores de mídias sociais.\n",
      "\n",
      "Critério[1]: 200 Pontos. O texto foi corrigido para a norma culta da língua escrita.\n",
      "Critério[2]: 200 Pontos. O texto seleciona, relaciona, organiza e interpreta informações, fatos, opiniões e argumentos em defesa de um ponto de vista.\n",
      "Critério[3]: 200 Pontos. O texto demonstra conhecimento dos mecanismos linguísticos necessários para a construção da argumentação.\n",
      "Critério[4]: 200 Pontos. O texto elabora a proposta de solução para o problema abordado, mostrando respeito aos valores humanos e considerando a diversidade sociocultural.\n",
      "Critério[5]: 200 Pontos. O texto demonstra domínio da norma culta da língua escrita.\n"
     ]
    }
   ],
   "source": []
  },
  {
   "cell_type": "markdown",
   "metadata": {},
   "source": [
    "## Prompt"
   ]
  },
  {
   "cell_type": "code",
   "execution_count": 117,
   "metadata": {},
   "outputs": [],
   "source": [
    "CRITERIO_1 = \"Demonstrar domínio da norma culta da língua escrita.\"\n",
    "CRITERIO_2 = \"Compreender a proposta da redação e aplicar conceito das várias áreas de conhecimento para desenvolver o tema, dentro dos limites estruturais do texto dissertativo-argumentativo.\"\n",
    "CRITERIO_3 = \"Selecionar, relacionar, organizar e interpretar informações, fatos, opiniões e argumentos em defesa de um ponto de vista.\"\n",
    "CRITERIO_4 = \"Demonstrar conhecimento dos mecanismos linguísticos necessários para a construção da argumentação.\"\n",
    "CRITERIO_5 = \"Elaborar a proposta de solução para o problema abordado, mostrando respeito aos valores humanos e considerando a diversidade sociocultura\"\n",
    "\n",
    "\n",
    "CONTEXTO = f'''Você é um avaliador de redações e irá avaliar uma redação do assunto {tema} considerando os 5 critérios a seguir:\n",
    "        Critério 1. {CRITERIO_1}\n",
    "        Critério 2. {CRITERIO_2} \n",
    "        Critério 3. {CRITERIO_3}\n",
    "        Critério 4. {CRITERIO_4} \n",
    "        Critério 5. {CRITERIO_5}\n",
    "\n",
    "        Para cada critério deve ser dada uma nota de 0 a 200. Sendo que você deve ser rigoroso!\n",
    "        \n",
    "'''\n",
    "ENTRADA_REDACAO = f'''O tema da redação é \"{tema}\" e o escritor deu o título de \"{titulo}\". Esta é a redação: \n",
    "\"\"\"{redacao}\"\"\"\n",
    "'''\n",
    "FORMATO_DE_SAIDA = f'''A saída deve ser no formato:\n",
    "    Critério 1: <nota criterio 1> <detalhes>\n",
    "    Critério 2: <nota criterio 2> <detalhes>\n",
    "    Critério 3: <nota criterio 3> <detalhes>\n",
    "    Critério 4: <nota criterio 4> <detalhes>\n",
    "    Critério 5: <nota criterio 5> <detalhes>\n",
    "    Comentário Geral : <comentário>\n",
    "'''\n",
    "\n",
    "messages=[ {\"role\": \"system\", \"content\": CONTEXTO},\n",
    "            {\"role\": \"user\", \"content\": ENTRADA_REDACAO},\n",
    "            {\"role\": \"system\", \"content\": FORMATO_DE_SAIDA},\n",
    "        ]"
   ]
  },
  {
   "cell_type": "markdown",
   "metadata": {},
   "source": [
    "## Chamada"
   ]
  },
  {
   "cell_type": "code",
   "execution_count": 134,
   "metadata": {},
   "outputs": [
    {
     "data": {
      "text/plain": [
       "<OpenAIObject chat.completion id=chatcmpl-7pOJmtg5UPgxo2YT3dSnCzW4t3DMT at 0x7f2229271310> JSON: {\n",
       "  \"id\": \"chatcmpl-7pOJmtg5UPgxo2YT3dSnCzW4t3DMT\",\n",
       "  \"object\": \"chat.completion\",\n",
       "  \"created\": 1692482562,\n",
       "  \"model\": \"gpt-3.5-turbo-0613\",\n",
       "  \"choices\": [\n",
       "    {\n",
       "      \"index\": 0,\n",
       "      \"message\": {\n",
       "        \"role\": \"assistant\",\n",
       "        \"content\": \"Crit\\u00e9rio 1: 150 - O texto apresenta alguns desvios gramaticais e de pontua\\u00e7\\u00e3o, como a falta de concord\\u00e2ncia verbal em \\\"demandar cada vez mais qualifica\\u00e7\\u00f5es\\\" e \\\"s\\u00e3o incapazes de trabalha\\\", al\\u00e9m de erros de acentua\\u00e7\\u00e3o e falta de v\\u00edrgulas em alguns trechos. No entanto, o escritor demonstra um bom dom\\u00ednio da norma culta da l\\u00edngua escrita na maior parte do texto.\\n\\nCrit\\u00e9rio 2: 100 - O escritor compreende a proposta da reda\\u00e7\\u00e3o e aborda o tema proposto, que \\u00e9 a rela\\u00e7\\u00e3o entre qualifica\\u00e7\\u00e3o e o futuro do emprego. No entanto, o desenvolvimento do tema \\u00e9 superficial e n\\u00e3o h\\u00e1 a aplica\\u00e7\\u00e3o de conceitos das v\\u00e1rias \\u00e1reas de conhecimento para enriquecer a argumenta\\u00e7\\u00e3o.\\n\\nCrit\\u00e9rio 3: 100 - O texto apresenta informa\\u00e7\\u00f5es e fatos relacionados ao tema, como a refer\\u00eancia ao filme \\\"Estrelas al\\u00e9m do Tempo\\\" para exemplificar a necessidade de adapta\\u00e7\\u00e3o no mercado de trabalho. No entanto, a argumenta\\u00e7\\u00e3o \\u00e9 fraca e n\\u00e3o h\\u00e1 uma organiza\\u00e7\\u00e3o clara das informa\\u00e7\\u00f5es apresentadas.\\n\\nCrit\\u00e9rio 4: 120 - O escritor utiliza alguns mecanismos lingu\\u00edsticos necess\\u00e1rios para a constru\\u00e7\\u00e3o da argumenta\\u00e7\\u00e3o, como a cita\\u00e7\\u00e3o do filme e a utiliza\\u00e7\\u00e3o de conectivos para relacionar ideias. No entanto, h\\u00e1 problemas de coes\\u00e3o e coer\\u00eancia, al\\u00e9m de repeti\\u00e7\\u00f5es e falta de clareza em alguns trechos.\\n\\nCrit\\u00e9rio 5: 100 - O escritor n\\u00e3o elabora uma proposta de solu\\u00e7\\u00e3o para o problema abordado, que \\u00e9 a qualifica\\u00e7\\u00e3o e o futuro do emprego. Al\\u00e9m disso, n\\u00e3o h\\u00e1 uma reflex\\u00e3o sobre os valores humanos e a diversidade sociocultural.\\n\\nComent\\u00e1rio Geral: A reda\\u00e7\\u00e3o apresenta alguns problemas em rela\\u00e7\\u00e3o aos crit\\u00e9rios avaliados. \\u00c9 necess\\u00e1rio que o escritor aprimore sua argumenta\\u00e7\\u00e3o, utilizando conceitos das v\\u00e1rias \\u00e1reas de conhecimento e organizando melhor as informa\\u00e7\\u00f5es apresentadas. Al\\u00e9m disso, \\u00e9 importante elaborar uma proposta de solu\\u00e7\\u00e3o para o problema abordado, considerando os valores humanos e a diversidade sociocultural.\"\n",
       "      },\n",
       "      \"finish_reason\": \"stop\"\n",
       "    }\n",
       "  ],\n",
       "  \"usage\": {\n",
       "    \"prompt_tokens\": 692,\n",
       "    \"completion_tokens\": 490,\n",
       "    \"total_tokens\": 1182\n",
       "  }\n",
       "}"
      ]
     },
     "execution_count": 134,
     "metadata": {},
     "output_type": "execute_result"
    }
   ],
   "source": [
    "response"
   ]
  },
  {
   "cell_type": "code",
   "execution_count": 130,
   "metadata": {},
   "outputs": [
    {
     "name": "stdout",
     "output_type": "stream",
     "text": [
      "Critério 1: 150 - O texto apresenta alguns desvios gramaticais e de pontuação, como a falta de concordância verbal em \"demandar cada vez mais qualificações\" e \"são incapazes de trabalha\", além de erros de acentuação e falta de vírgulas em alguns trechos. No entanto, o escritor demonstra um bom domínio da norma culta da língua escrita na maior parte do texto.\n",
      "\n",
      "Critério 2: 100 - O escritor compreende a proposta da redação e aborda o tema proposto, que é a relação entre qualificação e o futuro do emprego. No entanto, o desenvolvimento do tema é superficial e não há a aplicação de conceitos das várias áreas de conhecimento para enriquecer a argumentação.\n",
      "\n",
      "Critério 3: 100 - O texto apresenta informações e fatos relacionados ao tema, como a referência ao filme \"Estrelas além do Tempo\" para exemplificar a necessidade de adaptação no mercado de trabalho. No entanto, a argumentação é fraca e não há uma organização clara das informações apresentadas.\n",
      "\n",
      "Critério 4: 120 - O escritor utiliza alguns mecanismos linguísticos necessários para a construção da argumentação, como a citação do filme e a utilização de conectivos para relacionar ideias. No entanto, há problemas de coesão e coerência, além de repetições e falta de clareza em alguns trechos.\n",
      "\n",
      "Critério 5: 100 - O escritor não elabora uma proposta de solução para o problema abordado, que é a qualificação e o futuro do emprego. Além disso, não há uma reflexão sobre os valores humanos e a diversidade sociocultural.\n",
      "\n",
      "Comentário Geral: A redação apresenta alguns problemas em relação aos critérios avaliados. É necessário que o escritor aprimore sua argumentação, utilizando conceitos das várias áreas de conhecimento e organizando melhor as informações apresentadas. Além disso, é importante elaborar uma proposta de solução para o problema abordado, considerando os valores humanos e a diversidade sociocultural.\n"
     ]
    }
   ],
   "source": [
    "response = openai.ChatCompletion.create(\n",
    "        model=\"gpt-3.5-turbo\",\n",
    "        messages=messages,\n",
    "        temperature=0,\n",
    "    )\n",
    "output = response.choices[0].message['content'].strip()\n",
    "print(output)"
   ]
  },
  {
   "cell_type": "code",
   "execution_count": 105,
   "metadata": {},
   "outputs": [
    {
     "data": {
      "text/plain": [
       "tema                                    Qualificação e o futuro do emprego\n",
       "titulo                            Qualificações para o mercado de trabalho\n",
       "nota_final                                                             480\n",
       "comp_lingua_culta                                                       80\n",
       "comp_proposta                                                          120\n",
       "comp_argumentacao                                                      120\n",
       "comp_conhecimentos                                                      80\n",
       "comp_proposta_solucao                                                   80\n",
       "url                      https://educacao.uol.com.br/bancoderedacoes/re...\n",
       "texto_original           Anos após anos uma vaga de emprego demandar ca...\n",
       "texto_corrigido          Anos após anos <nota=\"desejado\">Ano após ano, ...\n",
       "comentario_geral         Comentário geral O texto fica entre o insufici...\n",
       "Name: 0, dtype: object"
      ]
     },
     "execution_count": 105,
     "metadata": {},
     "output_type": "execute_result"
    }
   ],
   "source": []
  }
 ],
 "metadata": {
  "kernelspec": {
   "display_name": "Python 3.11.4 ('base')",
   "language": "python",
   "name": "python3"
  },
  "language_info": {
   "codemirror_mode": {
    "name": "ipython",
    "version": 3
   },
   "file_extension": ".py",
   "mimetype": "text/x-python",
   "name": "python",
   "nbconvert_exporter": "python",
   "pygments_lexer": "ipython3",
   "version": "3.11.4"
  },
  "orig_nbformat": 4,
  "vscode": {
   "interpreter": {
    "hash": "58ed8a150d7d37ab663d3aba4c202cca1b056a70e46f6886df0072485b153cf5"
   }
  }
 },
 "nbformat": 4,
 "nbformat_minor": 2
}
